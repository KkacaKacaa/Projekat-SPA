{
 "cells": [
  {
   "cell_type": "markdown",
   "id": "94417d9c-e79c-49e4-bbf7-f1747a5c719e",
   "metadata": {},
   "source": [
    "<h1 style=\"text-align: center;\">Projekat SPA</h1>"
   ]
  },
  {
   "cell_type": "markdown",
   "id": "ed5a3910-0783-48c7-a2b3-513a760f7935",
   "metadata": {},
   "source": [
    "<h2 style=\"text-align: center;\">Tema: Osnovni model za klasifikaciju teksta</h2>"
   ]
  },
  {
   "cell_type": "code",
   "execution_count": null,
   "id": "f77dc058-4582-48b7-aced-a7b03700fa0d",
   "metadata": {},
   "outputs": [],
   "source": [
    "#Importovanje neophodnih biblioteka:"
   ]
  },
  {
   "cell_type": "code",
   "execution_count": null,
   "id": "560eef2e-d84a-42c5-8477-fde19aa8179f",
   "metadata": {},
   "outputs": [],
   "source": [
    "#!pip install pandas"
   ]
  },
  {
   "cell_type": "code",
   "execution_count": null,
   "id": "5ab9b293-8875-401b-93a2-b358059969d7",
   "metadata": {},
   "outputs": [],
   "source": [
    "import pandas as pd"
   ]
  },
  {
   "cell_type": "code",
   "execution_count": null,
   "id": "afb21ba1-a1e1-492c-96c8-a3ce36530c17",
   "metadata": {},
   "outputs": [],
   "source": [
    "#!pip install scikit-learn"
   ]
  },
  {
   "cell_type": "code",
   "execution_count": null,
   "id": "7dfdf2f8-ae78-4e98-98fa-ac18f0b8c2f0",
   "metadata": {},
   "outputs": [],
   "source": [
    "from sklearn.model_selection import train_test_split\n",
    "from sklearn.pipeline import Pipeline\n",
    "from sklearn.feature_extraction.text import TfidfVectorizer\n",
    "from sklearn.naive_bayes import MultinomialNB, ComplementNB\n",
    "from sklearn.svm import LinearSVC\n",
    "from sklearn.metrics import accuracy_score, classification_report\n",
    "import spacy"
   ]
  },
  {
   "cell_type": "code",
   "execution_count": null,
   "id": "014b2c62-6592-4229-8bbd-c4b97671feb2",
   "metadata": {},
   "outputs": [],
   "source": [
    "#Čitanje datoteke\n",
    "#„Category“ sadrži stvarnu oznaku poruke (neželjena pošta (spam) ili hum), a „Message“ sadrži tekst poruke.\n",
    "\n",
    "fajl = pd.read_csv('dataset.csv')\n",
    "X = fajl['Message']\n",
    "y = fajl['Category']"
   ]
  },
  {
   "cell_type": "code",
   "execution_count": null,
   "id": "36bef6f8-6eec-4af0-8304-c22418597d3e",
   "metadata": {},
   "outputs": [],
   "source": [
    "#Skup podataka dijelimo na skupove za treniranje i testiranje:\n",
    "X_train, X_test, y_train, y_test = train_test_split(X, y, test_size=0.2, random_state=42)"
   ]
  },
  {
   "cell_type": "code",
   "execution_count": null,
   "id": "45e78bc9-2a22-457e-9c71-10dd3be6879c",
   "metadata": {},
   "outputs": [],
   "source": [
    "#Pravljenje klasifikatora\n",
    "#Konvertujemo podatke u numerički format koristeći TfidfVectorizer, a zatim specificiramo naše klasifikatore\n",
    "\n",
    "pipe_MNB = Pipeline([\n",
    "('tfidf', TfidfVectorizer()),('clf', MultinomialNB())\n",
    "])\n",
    "pipe_CNB = Pipeline([\n",
    "('tfidf', TfidfVectorizer()),('clf', ComplementNB())\n",
    "])\n",
    "pipe_SVC = Pipeline([\n",
    "('tfidf', TfidfVectorizer()),('clf', LinearSVC())\n",
    "])"
   ]
  },
  {
   "cell_type": "code",
   "execution_count": null,
   "id": "db85296d-0e73-486c-a892-25cac5822d75",
   "metadata": {},
   "outputs": [],
   "source": [
    "#Građenje modela koristeći MultinomialNB, ComplementNB i LinearSVC, i obučavanje.\n",
    "#Nakon toga, predviđamo oznake za naše TEST podatke, a zatim štampamo rezultat tačnosti na osnovu poređenja tačnih \n",
    "\n",
    "pipe_MNB.fit(X_train, y_train)\n",
    "predict_MNB = pipe_MNB.predict(X_test)\n",
    "print(f\"MNB: {accuracy_score(y_test, predict_MNB):.2f}\")\n",
    "\n",
    "pipe_CNB.fit(X_train, y_train)\n",
    "predict_CNB = pipe_CNB.predict(X_test)\n",
    "print(f\"CNB: {accuracy_score(y_test, predict_CNB):.2f}\")\n",
    "\n",
    "pipe_SVC.fit(X_train, y_train)\n",
    "predict_SVC = pipe_SVC.predict(X_test)\n",
    "print(f\"SVC: {accuracy_score(y_test, predict_SVC):.2f}\")"
   ]
  },
  {
   "cell_type": "code",
   "execution_count": null,
   "id": "a00645b6-77e5-4dd3-ba1f-22432a5476b9",
   "metadata": {},
   "outputs": [],
   "source": [
    "#Testiranje\n",
    "message = \"you have won a $10000 prize! contact us fot eh reward!\"\n",
    "result = pipe_SVC.predict([message])\n",
    "print(\"Result: \", result[0])"
   ]
  }
 ],
 "metadata": {
  "kernelspec": {
   "display_name": "Python 3 (ipykernel)",
   "language": "python",
   "name": "python3"
  },
  "language_info": {
   "codemirror_mode": {
    "name": "ipython",
    "version": 3
   },
   "file_extension": ".py",
   "mimetype": "text/x-python",
   "name": "python",
   "nbconvert_exporter": "python",
   "pygments_lexer": "ipython3",
   "version": "3.12.3"
  }
 },
 "nbformat": 4,
 "nbformat_minor": 5
}
